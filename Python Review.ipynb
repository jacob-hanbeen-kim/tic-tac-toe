{
 "cells": [
  {
   "cell_type": "markdown",
   "metadata": {},
   "source": [
    "# Welcome to Python Review!\n",
    "\n",
    "Your task is to go through each section to get quick review on different aspects of Python. Along the way, you will see **Practice Questions** that you can solve as a check point to what you have learned so far. Read the description carefully and use the provided **Test Cases** to check if you have implemented the problem correctly."
   ]
  },
  {
   "cell_type": "markdown",
   "metadata": {},
   "source": [
    "## Table of Contents\n",
    "\n",
    "1. Indentation\n",
    "2. Variables & Types\n",
    "3. Function\n",
    "4. Practice 1\n",
    "5. Logical Operators\n",
    "6. Conditionals\n",
    "7. Practice 2\n",
    "8. Iteration\n",
    "9. Practice 3\n",
    "10. Practice 4\n",
    "11. Class\n",
    "12. Practice 5\n",
    "13. Inheritance\n",
    "14. Practice 6"
   ]
  },
  {
   "cell_type": "markdown",
   "metadata": {},
   "source": [
    "## Indentation\n",
    "\n",
    "Python sees indentation as a signal for \"block\"\n",
    "Both tab and spaces work, but standard convention is to use **4 spaces**"
   ]
  },
  {
   "cell_type": "code",
   "execution_count": null,
   "metadata": {},
   "outputs": [],
   "source": [
    "x = 1\n",
    "if x == 1:\n",
    "    # indented four spaces\n",
    "    print(\"x is 1\")"
   ]
  },
  {
   "cell_type": "markdown",
   "metadata": {},
   "source": [
    "## Variables & Types\n",
    "\n",
    "Python is object-oriented, but you do not need to specify the type during the compile time. Type is assigned during the runtime.\n",
    "\n",
    "| Type | Example |\n",
    "|------|---------|\n",
    "| int  | 5       |\n",
    "| float | 5.0.   |\n",
    "| String | \"Hello, world\" |\n",
    "| List | [\"a\", 1, \"c\"] |\n",
    "| Tuple | (1, 5) |\n",
    "| Dictionary | {\"a\": 1, \"b\": 2} |"
   ]
  },
  {
   "cell_type": "markdown",
   "metadata": {},
   "source": [
    "You can use **type(object)** function to check the type of a value"
   ]
  },
  {
   "cell_type": "code",
   "execution_count": null,
   "metadata": {},
   "outputs": [],
   "source": [
    "print(type(1)) #int\n",
    "print(type(1.0)) #float\n",
    "print(type(\"Hello, World\")) #str\n",
    "print(type([1,2,3,4])) # list\n",
    "print(type((1,5))) # tuple\n",
    "print(type({\"a\": 1, \"b\":2})) # dict"
   ]
  },
  {
   "cell_type": "markdown",
   "metadata": {},
   "source": [
    "## Function\n",
    "\n",
    "**Function** is a named sequence of statements that belong together.\n",
    "Primary purpose of a function is to help us organize programs into chunks that match how we think about the problem.\n",
    "\n",
    "The syntax for a **function definition** is:"
   ]
  },
  {
   "cell_type": "code",
   "execution_count": null,
   "metadata": {},
   "outputs": [],
   "source": [
    "def NAME( PARAMETERS ):\n",
    "    STATEMENTS"
   ]
  },
  {
   "cell_type": "markdown",
   "metadata": {},
   "source": [
    "We can make up any names we want for the functions we create, except that we can't use a name that is a Python keyword\n",
    "\n",
    "Use **Camel Case** or **Underscore**"
   ]
  },
  {
   "cell_type": "markdown",
   "metadata": {},
   "source": [
    "### Function Call\n",
    "\n",
    "Defining a new function does not make the function run. To do that we need a **function call**.\n",
    "\n",
    "Function call contains\n",
    "  1. **name of the function** being executed\n",
    "  2. followed by a **list of values**, called arguments, which are assigned to the parameters in the function definition."
   ]
  },
  {
   "cell_type": "markdown",
   "metadata": {},
   "source": [
    "### input(msg)\n",
    "\n",
    "**input()** is a predefined python function that takes an input from a user. When **input()** function executes, program flow will be stopped until the user has given an input.\n",
    "\n",
    "The text or message displayed on the output screen is entered as an argument to the function\n",
    "\n",
    " *ex. input(\"What is your age? \")\n",
    " \n",
    "All the values entered into the input function is taken in as **string**"
   ]
  },
  {
   "cell_type": "code",
   "execution_count": null,
   "metadata": {},
   "outputs": [],
   "source": [
    "\"\"\" Try yourself! \"\"\"\n",
    "\n",
    "age = input(\"What is your age?\") # takes age as an input\n",
    "print(age, type(age)) # print the entered value and type (should be string)\n",
    "\n",
    "age_in_int = int(age) # convert the value into int\n",
    "print(age_in_int, type(age_in_int)) # print converted value and type\n",
    "\n",
    "age_in_float = float(age) # convert the vaue into float\n",
    "print(age_in_float, type(age_in_float)) # print converted value and type"
   ]
  },
  {
   "cell_type": "markdown",
   "metadata": {},
   "source": [
    "## Practice 1\n",
    "\n",
    "Good news! Ironman 3 is back out in theaters and you want to see Ironman’s action on the big screen as many times as you can before it stops showing.\n",
    "\n",
    "Write a function named **iLoveIronman**\n",
    "\n",
    "I have predefined few variables for you:\n",
    "  1. **budget** - Ask user how much money they have (as a float)\n",
    "  2. **ticketCost** - Ask user how much single ticket costs (as a float)\n",
    "  3. **numbWatch** - Using the price from 2nd question and response from 1st question, calculate the number of time they can see Ironman\n",
    "  4. Print out the value as a descriptive sentence to the user\n",
    "  \n",
    "**Test Cases:**\n",
    "* Example 1:\n",
    "  * Python>>>iLoveIronman()\n",
    "  * \"How much do you have?\" **\\\\$30**\n",
    "  * \"How much doe single ticket cost?\" **\\\\$10**\n",
    "  * **With \\\\$30.00, you can watch Ironman 3 times because each ticket costs \\\\$10.00**"
   ]
  },
  {
   "cell_type": "code",
   "execution_count": null,
   "metadata": {},
   "outputs": [],
   "source": [
    "\"\"\" \n",
    " * Define iLoveIronman function as described above\n",
    " *\n",
    " * You can use string format to format the string\n",
    " *   https://www.w3schools.com/python/ref_string_format.asp\n",
    " * I have already defined format string for you.\n",
    " *\n",
    " * You just need to take input and calculate numbWatch value.\n",
    "\"\"\"\n",
    "def iLoveIronman():\n",
    "    output = \"With ${budget:.2f}, you can watch Ironman {numbWatch} times because each ticket costs ${ticketCost:.2f}\"\n",
    "    budget = 0\n",
    "    ticketCost = 0\n",
    "    numbWatch = 0\n",
    "    #-------- Your Code Goes Below ---------#\n",
    "    \n",
    "    #-------- Your Code Goes Above ---------#\n",
    "    print(output.format(budget = budget, numbWatch = numbWatch, ticketCost = ticketCost))"
   ]
  },
  {
   "cell_type": "code",
   "execution_count": null,
   "metadata": {},
   "outputs": [],
   "source": [
    "#----------- Test Your Code by Running this block -----------#\n",
    "iLoveIronman()"
   ]
  },
  {
   "cell_type": "markdown",
   "metadata": {},
   "source": [
    "## Logical Operators\n",
    "\n",
    "There are three **logical operators**:\n",
    "  1. **and** (& or && in java)\n",
    "  2. **or** (| or || in java)\n",
    "  3. **not** (! in java)\n",
    "These logical operators allow us to build more complex Boolean expressions from simpler Boolean expressions.\n",
    "\n",
    "The operation is evaluated from left to right; therefore, if for \"or\" operator, if first expression evaluates to True, second expression is not ran."
   ]
  },
  {
   "cell_type": "code",
   "execution_count": null,
   "metadata": {},
   "outputs": [],
   "source": [
    "x = 1\n",
    "y = 2\n",
    "z = 3\n",
    "print(x == 1 and y == 2) # evaluates to True\n",
    "print(x == 2 and y == 2) # evaluates to False because x does not equal 2\n",
    "\n",
    "print(x == 1 or y == 1) # evaluates to True because x equals 1\n",
    "print(x == 3 or y == 3) # evaulates to False becuase neither x nor y is 3\n",
    "\n",
    "print(not(x == 2)) # evaluates to True because x does not equal 2\n",
    "print(not(x == 1)) # evaluates to False because x equals 1\n",
    "\n",
    "\n",
    "#----------- Try yourself! -----------#\n"
   ]
  },
  {
   "cell_type": "markdown",
   "metadata": {},
   "source": [
    "## Conditionals\n",
    "\n",
    "In order to write useful programs, we almost always need the ability to check conditions and change the behavior of the program accordingly. **Conditional Statements** give us the ability.\n",
    "\n",
    "The syntax for **if** statements look like this:\n",
    "    \n",
    "    if BOOLEAN EXPRESSION:\n",
    "        STATEMENT_1     # Executed if condition evaluates to True\n",
    "    elif BOOLEAN EXPRESSION 2:\n",
    "        STATEMENT_2     # Executed if 2nd condition evaluates to True\n",
    "    else:\n",
    "        STATEMENTS_3    # Executed if all conditions evaluate to False\n",
    "        \n",
    "Note that **elif** and **else** block can be left out"
   ]
  },
  {
   "cell_type": "code",
   "execution_count": null,
   "metadata": {},
   "outputs": [],
   "source": [
    "x = 1\n",
    "if (x == 1):\n",
    "    print(\"x is 1\")\n",
    "elif (x == 2):\n",
    "    print(\"x is 2\")\n",
    "else:\n",
    "    print(\"x is neither 1 nor 2\")\n",
    "    \n",
    "#----------- Try yourself! -----------#"
   ]
  },
  {
   "cell_type": "markdown",
   "metadata": {},
   "source": [
    "## Practice 2\n",
    "\n",
    "Write a function called **is_divisible**\n",
    "\n",
    "* **Parameter**: x, y\n",
    "* **Return**: isDivisible (set to True of False)\n",
    "   * **True** if x is divisible by y\n",
    "   * **False** otherwise\n",
    "* **Hint**:\n",
    "   * Use **% (modulus)** to test if x is divisible by y\n",
    "   * x % y returns **remainder** so if x is divisible by y, **x % y will be 0**\n",
    "* **Test Cases**:\n",
    "  * Example 1:\n",
    "    * Python>>>is_divisible(10, 2)\n",
    "    * **True**\n",
    "  * Example 2:\n",
    "    * Python>>>is_divisible(549187, 20)\n",
    "    * **False**"
   ]
  },
  {
   "cell_type": "code",
   "execution_count": null,
   "metadata": {},
   "outputs": [],
   "source": [
    "def is_divisible(x, y):\n",
    "    isDivisible = False\n",
    "    #-------- Your Code Goes Below ---------#\n",
    "    \n",
    "    #-------- Your Code Goes Above ---------#\n",
    "    return isDivisible"
   ]
  },
  {
   "cell_type": "code",
   "execution_count": null,
   "metadata": {},
   "outputs": [],
   "source": [
    "#----------- Test Your Code by Running this block -----------#\n",
    "is_divisible(10, 2)"
   ]
  },
  {
   "cell_type": "markdown",
   "metadata": {},
   "source": [
    "## Iteration\n",
    "\n",
    "Computers are often used to automate repetitive tasks. Repeating identical or similar tasks without making errors is something that computers do well and people do poorly.\n",
    "\n",
    "Repeated execution of a set of statements is called **iteration**\n",
    "\n",
    "There are several ways to iterate:\n",
    "  1. **for loop**\n",
    "  2. **while loop**\n",
    "  3. **recursion**"
   ]
  },
  {
   "cell_type": "markdown",
   "metadata": {},
   "source": [
    "### For Loop\n",
    "\n",
    "A **for** loop is used for iteration over a sequence (that is either a list, a tuple, a dictionary, a set, or a string).\n",
    "\n",
    "The syntax of for loop is"
   ]
  },
  {
   "cell_type": "code",
   "execution_count": null,
   "metadata": {},
   "outputs": [],
   "source": [
    "fruits = [\"apple\", \"banana\", \"cherry\"]\n",
    "for x in fruits:\n",
    "    print(x)"
   ]
  },
  {
   "cell_type": "markdown",
   "metadata": {},
   "source": [
    "* **x** in the for loop is called the **loop variable**. We could have chosen any other variable name instead.\n",
    "* **print(x)** is the **loop body**. The loop body is always **indented**\n",
    "* On each *iteration* of the loop, first a check is done to see if there are still more items to be processed. If there are none left (this is called the **terminating condition** of the loop), the loop has finished.\n",
    "* If there are items still to be processed, the loop variable is updated to refer the next item in the list. This means, in this case, the loop body is executed 3 times, and each time **x** will refer to different fruit"
   ]
  },
  {
   "cell_type": "markdown",
   "metadata": {},
   "source": [
    "#### Use of For Loop\n",
    "\n",
    "For loop is used mostly on following two cases:\n",
    "  1. Iterate through items of a list\n",
    "\n",
    "    number = [1,2,3]\n",
    "    for n in numbers:\n",
    "        print(n)\n",
    "\n",
    "  2. Repeat block of code for n number of times\n",
    "  \n",
    "    for i in range(3):\n",
    "        print(\"hi\")\n",
    "        \n",
    "As you can see from above 2 examples, for loop is used when you know, before you start looping, the maximum number of times taht you will need to execute the body. In other words, use for loop if you have prior knowledge of the number of times you want to iterate.\n",
    "\n",
    "For loop is **definite iteration** - we know ahead of time some definite bounds for what is needed"
   ]
  },
  {
   "cell_type": "markdown",
   "metadata": {},
   "source": [
    "### range()\n",
    "\n",
    "**range()** is a function that returns a sequence of numbers, starting from 0 by default, and increments by 1 (by default), and ends at specified number.\n",
    "\n",
    "**range(start, stop, step)**\n",
    "* start - optional. An integer number specifying at which position to start. Default is 0\n",
    "* stop - required. An integer number specifying at which position to end.\n",
    "* step - optional. An integer number specifying the incrementation. Default is 0"
   ]
  },
  {
   "cell_type": "code",
   "execution_count": null,
   "metadata": {},
   "outputs": [],
   "source": [
    "#----------- Try yourself! -----------#\n",
    "\n",
    "# [0,1,2,3,4]\n",
    "for x in range(5):\n",
    "    print(x, end=\" \")\n",
    "print()    \n",
    "\n",
    "# [2,3,4]\n",
    "for x in range(2,5):\n",
    "    print(x, end=\" \")\n",
    "print()\n",
    "\n",
    "# [2,4]\n",
    "for x in range(2,5,2):\n",
    "    print(x, end=\" \")\n",
    "print()"
   ]
  },
  {
   "cell_type": "markdown",
   "metadata": {},
   "source": [
    "## While Loop\n",
    "\n",
    "Unlike for loop where number of iteration is defined, while loop runs for indefinite number of time. This is because while loop depends on an **conditioal** expression to determine if the loop ended or not. Therefore, it is important for the body of the loop to change the value of one or more variables so that eventually the condition becomes false and the loop terminates. Otherwise, the loop will repeat forever, which is called **infinite loop**"
   ]
  },
  {
   "cell_type": "code",
   "execution_count": null,
   "metadata": {},
   "outputs": [],
   "source": [
    "ss = 0\n",
    "v = 1\n",
    "n = 5\n",
    "while v <= n:\n",
    "    ss = ss + v\n",
    "    v = v + 1\n",
    "\n",
    "print(ss)"
   ]
  },
  {
   "cell_type": "markdown",
   "metadata": {},
   "source": [
    "### Use of While Loop\n",
    "\n",
    "While loops are used when you are required to repeat some computation until some condition is met, and you cannot calculate in advance when (of if) this will happen.\n",
    "\n",
    "While loop is **indefinite iteration** - we are not sure how many iteration we will need"
   ]
  },
  {
   "cell_type": "markdown",
   "metadata": {},
   "source": [
    "## Practice 3\n",
    "\n",
    "**Function Name:** illuminatiConfirmed\n",
    "* **Parameter:**\n",
    "  * secretMsg - a string representing the message that may or may not be from the Illuminati\n",
    "* **Return Value:**\n",
    "  * None\n",
    "* **Description:**\n",
    "  * Write a function that takes a secret message and determines whether it was sent from the Illuminati.\n",
    "  * **USE A FOR LOOP** to determine whether there are **three \\\\$** signs in the message.\n",
    "  * If there are three dollar signs\n",
    "    * Create a new string from the secret message in which you **replace each \\\\$ sign with an “s”**. \n",
    "    * Print this new string and then print **“Illuminati Confirmed.”**\n",
    "  * else (if there are no three dollar signs)\n",
    "    * Print the original string. Then print **“Probably not Illuminati.”**\n",
    "* **Test Cases:**\n",
    "  * Example 1:\n",
    "    * Python>>>illuminatiConfirmed(\"Let’\\\\$ meet at Jacob’\\\\$ hou\\\\$e.”)\n",
    "    * Let’s meet at Jacob’s house.\n",
    "    * Illuminati Confirmed.\n",
    "  * Example 2:\n",
    "    * Python>>>illuminatiConfirmed(\"The shampoo costs \\\\$3.50”)\n",
    "    * The shampoo costs \\\\$3.50.\n",
    "    * Probably not Illuminati."
   ]
  },
  {
   "cell_type": "code",
   "execution_count": null,
   "metadata": {},
   "outputs": [],
   "source": [
    "def illuminatiConfirmed(secretMsg):\n",
    "    msg = \"\"\n",
    "    #-------- Your Code Goes Below ---------#\n",
    "    \n",
    "    #-------- Your Code Goes Above ---------#\n",
    "    print(msg)"
   ]
  },
  {
   "cell_type": "code",
   "execution_count": null,
   "metadata": {},
   "outputs": [],
   "source": [
    "#----------- Test Your Code by Running this block -----------#\n",
    "illuminatiConfirmed(\"Let'$ meet at Jacob'$ hou$e\")"
   ]
  },
  {
   "cell_type": "markdown",
   "metadata": {},
   "source": [
    "## Practice 4\n",
    "\n",
    "**Function Name:** enoughFor\n",
    "* **Parameter:**\n",
    "  * None\n",
    "* **Return Value:**\n",
    "  * None\n",
    "* **Description:**\n",
    "  * Write a function that will calculate the minimum grade a user needs to get in his or her final Exam in order to get the grade wanted.\n",
    "  * You will ask the user, **what Letter Grade he/she will like to obtain** (only valid inputs should be A, a, B, b, C, c, D, or d. other than this you must let the user know there was a mistake and ask again.)\n",
    "  * You will then ask the user **what’s the current percentage grade** she or he has on the class (you may assume the user will always enter a number between (0-100].\n",
    "  * You will ask **how much is the final worth** (0,100] (same as for the percentage, you may assume a valid user input).\n",
    "  * Calculate with the formula the **minimum score on the final**, and tell the user **if it’s impossible to get that desired grade** (hint: if final grade > 100%).\n",
    "* **Formula**\n",
    "  * Final exam grade = (100 x desired grade - (100 - final worth) x current grade) / final worth\n",
    "  * A = [90,100] B= [80,90) C= [70,80) D= [60,70)\n",
    "* **Test Cases:**\n",
    "  * Example 1:\n",
    "    * Python>>>enoughFor()\n",
    "    * \"What letter-grade would you like to get?(A-D)\" **A**\n",
    "    * \"What's your current grade on the class in %?(0-100)\" **87**\n",
    "    * \"How much is the final worth?\" **20**\n",
    "    * **I'm sorry it's impossible for you to get this grade**\n",
    "  * Example 2:\n",
    "    * Python>>>enoughFor()\n",
    "    * \"What letter-grade would you like to get?(A-D)\" **C**\n",
    "    * \"What's your current grade on the class in %?(0-100)\" **80**\n",
    "    * \"How much is the final worth?\" **20**\n",
    "    * **You need 30.0 in the final to get a C in the class**"
   ]
  },
  {
   "cell_type": "code",
   "execution_count": null,
   "metadata": {},
   "outputs": [],
   "source": [
    "def enoughFor():\n",
    "    msg = \"\"\n",
    "    #-------- Your Code Goes Below ---------#\n",
    "    \n",
    "    #-------- Your Code Goes Above ---------#\n",
    "    print(msg)"
   ]
  },
  {
   "cell_type": "code",
   "execution_count": null,
   "metadata": {},
   "outputs": [],
   "source": [
    "#----------- Test Your Code by Running this block -----------#\n",
    "enoughFor()"
   ]
  },
  {
   "cell_type": "markdown",
   "metadata": {},
   "source": [
    "## Class\n",
    "\n",
    "A class is a **user-defined blueprint** or prototype from which objects are created. Classes provide a means of bundling data and functionality together. Creating a new class creates a new type of object, allowing new instances of that type to be made.\n",
    "\n",
    "The syntax for defining class in python is as follows:\n",
    "\n",
    "    class NameOfTheClass():\n",
    "    \n",
    "Classes are created by keyword **class**."
   ]
  },
  {
   "cell_type": "markdown",
   "metadata": {},
   "source": [
    "### \\_\\_init\\_\\_\n",
    "\n",
    "The **\\_\\_init\\_\\_** method is similar to constructors in C++ and Java. The task of constructors is to **initialize(assign values)** to the data members of the class when an object of class is created. Like methods, a constructor also contains collection of statements(i.e. instructions) that are executed at time of Object creation. **It is run as soon as an object of a class is instantiated.** The method is useful to do any initialization you want to do with your object."
   ]
  },
  {
   "cell_type": "code",
   "execution_count": null,
   "metadata": {},
   "outputs": [],
   "source": [
    "# A Sample class with init method\n",
    "class Person:\n",
    "    \n",
    "    # init method or constructor\n",
    "    def __init__(self, name):\n",
    "        self.name = name\n",
    "        \n",
    "    # Sample Method\n",
    "    def say_hi(self):\n",
    "        print('Hello, my name is', self.name)\n",
    "      \n",
    "p = Person('Nikhil')\n",
    "p.say_hi()"
   ]
  },
  {
   "cell_type": "markdown",
   "metadata": {},
   "source": [
    "### self\n",
    "\n",
    "**self** represents the **instance of the class**. By using the “self” keyword we can **access the attributes and methods of the class in python**. It binds the attributes with the given arguments.\n",
    "\n",
    "* Class methods **must have an extra first parameter** in method definition. We do not give a value for this parameter when we call the method, Python provides it.\n",
    "* If we have a method which takes no arguments, then we still have to have one argument.\n",
    "* This is similar to this pointer in C++ and this reference in Java."
   ]
  },
  {
   "cell_type": "code",
   "execution_count": null,
   "metadata": {},
   "outputs": [],
   "source": [
    "class car():\n",
    "    \n",
    "    # init method or constructor\n",
    "    def __init__(self, model, color):\n",
    "        self.model = model\n",
    "        self.color = color\n",
    "        \n",
    "    def show(self):\n",
    "        print(\"Model is\", self.model)\n",
    "        print(\"color is\", self.color)\n",
    "        \n",
    "# both objects have different self which\n",
    "# contain their attributes\n",
    "audi = car(\"audi a4\", \"blue\")\n",
    "ferrari = car(\"ferrari 488\", \"green\")\n",
    "\n",
    "audi.show()     # same output as car.show(audi)\n",
    "ferrari.show()  # same output as car.show(ferrari)\n",
    "\n",
    "# Behind the scene, in every instance method\n",
    "# call, python sends the instances also with\n",
    "# that method call like car.show(audi)"
   ]
  },
  {
   "cell_type": "markdown",
   "metadata": {},
   "source": [
    "### Instance Variables\n",
    "\n",
    "* **Instance variables** are\n",
    "  * for data unique to each instance\n",
    "  * variables whose value is **assigned inside a constructor or method** with **self**\n",
    "* **class variables** are \n",
    "  * for attributes and methods shared by all instances of the class.\n",
    "  * variables whose value is **assigned in the class**."
   ]
  },
  {
   "cell_type": "code",
   "execution_count": null,
   "metadata": {},
   "outputs": [],
   "source": [
    "# Python program to show that the variables with a value\n",
    "# assigned in the class declaration, are class variables and\n",
    "# variables inside methods and constructors are instance\n",
    "# variables.\n",
    "\n",
    "# Class for Dog\n",
    "class Dog:\n",
    "    \n",
    "    # Class Variable \n",
    "    animal = 'dog'\n",
    "    \n",
    "    # The init method or constructor\n",
    "    def __init__(self, breed):\n",
    "        # Instance Variable\n",
    "        self.breed = breed\n",
    "        \n",
    "    # Adds an instance variable\n",
    "    def setColor(self, color):\n",
    "        self.color = color\n",
    "        \n",
    "    # Retrieves instance variable\n",
    "    def getColor(self):\n",
    "        return self.color\n",
    "        \n",
    "# Objects of Dog class\n",
    "Rodger = Dog(\"Pug\")\n",
    "Rodger.setColor(\"brown\")\n",
    "\n",
    "Buzo = Dog(\"Bulldog\")\n",
    "Buzo.setColor(\"black\")\n",
    "\n",
    "print('Rodger details:')\n",
    "print('Rodger is a', Rodger.animal)\n",
    "print('Breed: ', Rodger.breed)\n",
    "print('Color: ', Rodger.getColor())\n",
    "\n",
    "print('\\nBuzo details:')\n",
    "print('Buzo is a', Buzo.animal)\n",
    "print('Breed: ', Buzo.breed)\n",
    "print('Color: ', Buzo.getColor())\n",
    "\n",
    "# Class variables can be accessed using class\n",
    "# name also\n",
    "print(\"\\nAccessing class variable using class name\")\n",
    "print(Dog.animal)"
   ]
  },
  {
   "cell_type": "markdown",
   "metadata": {},
   "source": [
    "## Practice 5\n",
    "\n",
    "Create a class called **User**\n",
    "\n",
    "* Create a **class variable** called **userType** and set it's value to **\"user\"**\n",
    "* Create an **__init__** method that has 3 parameters and set it as a global/instance variable using **self**:\n",
    "  * userId\n",
    "  * password\n",
    "  * email\n",
    "* Create **setter method** for **gender** that takes in gender as a String and adds an instance variable **self.gender**\n",
    "* Create **getter method(s)** for **ALL class and instance variables**\n",
    "* Create a **login** method/function that takes does the following:\n",
    "  * **Parameters**:\n",
    "    * inputUserId\n",
    "    * inputPassword\n",
    "  * **Description**:\n",
    "    * Compare **inputUserId** and **inputPassword** with **self.userId** and **self.password** to see if it matches.\n",
    "      * Use **and** operator to make sure both conditions are **True**\n",
    "    * If user is authorized (userid and password matches), print **\"Login Successful!\"**\n",
    "    * Else print **\"Failed Login. Please check your username and password\"**"
   ]
  },
  {
   "cell_type": "code",
   "execution_count": null,
   "metadata": {},
   "outputs": [],
   "source": [
    "class User():\n",
    "  #-------- Your Code Goes Below ---------#\n",
    "    \n",
    "  #-------- Your Code Goes Above ---------#"
   ]
  },
  {
   "cell_type": "code",
   "execution_count": null,
   "metadata": {},
   "outputs": [],
   "source": [
    "#----------- Test Your Code by Running this block -----------#\n",
    "\n",
    "# creating an instance of an user\n",
    "user1 = User(\"myUserName\", \"Password1\", \"myemail@google.com\")\n",
    "\n",
    "# call setGender method\n",
    "user1.setGender(\"male\")\n",
    "\n",
    "# call getter methods of class User\n",
    "print(user1.getUserId()) # should print \"myUserName\"\n",
    "print(user1.getPassword()) # should print \"Password1\"\n",
    "print(user1.getEmail()) # should print \"myemail@google.com\"\n",
    "print(user1.getGender()) # should print \"male\"\n",
    "print(user1.getUserType()) # should print \"user\"\n",
    "\n",
    "# login with wrong credentials (should print \"Failed Login. Please check your username and password\")\n",
    "user1.login(\"myUser1\", \"pass1\")\n",
    "\n",
    "# login with correct credentials (should print \"Login Successful!\")\n",
    "user1.login(\"myUserName\", \"Password1\")"
   ]
  },
  {
   "cell_type": "markdown",
   "metadata": {},
   "source": [
    "## Inheritance\n",
    "\n",
    "**Inheritance** allows us to define a class that **inherits all the methods and properties from another class**.\n",
    "* **Parent class** is the class **being inherited from**, also called base class.\n",
    "* **Child class** is the class that **inherits from another class**, also called derived class.\n",
    "\n",
    "To create a class that inherits the functionality from another class, **send the parent class as a parameter** when creating the child class:"
   ]
  },
  {
   "cell_type": "code",
   "execution_count": null,
   "metadata": {},
   "outputs": [],
   "source": [
    "# **Make sure you run the code block that contains Dog class definition before you run this block**\n",
    "\n",
    "# Using \"Dog\" Class we created above, we create a Child Class called \"Poodle\"\n",
    "class Poodle(Dog):\n",
    "    pass\n",
    "\n",
    "# Note that without defining anything insde of the class,\n",
    "# we can use any methods (including __init__) and propertie that Dog (parent class) has\n",
    "poodle = Poodle(\"Poodle\")\n",
    "poodle.setColor(\"brown\")\n",
    "\n",
    "print('Poodle details:')\n",
    "print('Poodle is a', poodle.animal)\n",
    "print('Breed: ', poodle.breed)\n",
    "print('Color: ', poodle.getColor())"
   ]
  },
  {
   "cell_type": "code",
   "execution_count": null,
   "metadata": {},
   "outputs": [],
   "source": [
    "# You can also defin __init__ function within child class too\n",
    "class Pug(Dog):\n",
    "    \n",
    "    # By adding \"size\" variable to __init__ function, you are overriding the parent __init__ function\n",
    "    # You can also just make __init__ function identical to parent too __init__(self, breed)\n",
    "    def __init__(self, breed, size):\n",
    "        # To keep the inheritance of the parent's __init__() function, add a call to the parent's __init__() function:\n",
    "        super().__init__(breed)\n",
    "        \n",
    "        #and now set define new instance variable with additional parameter you received\n",
    "        self.size = size\n",
    "        \n",
    "    def getSize(self):\n",
    "        return self.size\n",
    "    \n",
    "\n",
    "# Instantiate the Pug class with breed and size argument\n",
    "pug = Pug(\"Pug\", \"Medium\")\n",
    "pug.setColor(\"grey\")\n",
    "\n",
    "print('Pug details:')\n",
    "print('Pug is a', pug.animal)\n",
    "print('Breed: ', pug.breed)\n",
    "print('Color: ', pug.getColor())\n",
    "print('Size: ', pug.getSize())"
   ]
  },
  {
   "cell_type": "markdown",
   "metadata": {},
   "source": [
    "## Practice 6\n",
    "\n",
    "Create a child class called **Customer** that takes **User** as it's parent\n",
    "\n",
    "* Create a class variable called **userType** and set it's value to **\"customer\"**\n",
    "* Override **User** class's __init__ function by taking in **fullName** parameter\n",
    "* Create a **getter method** for the **fullName** variable"
   ]
  },
  {
   "cell_type": "code",
   "execution_count": null,
   "metadata": {},
   "outputs": [],
   "source": [
    "#-------- Your Code Goes Below ---------#\n",
    "    \n",
    "#-------- Your Code Goes Above ---------#"
   ]
  },
  {
   "cell_type": "code",
   "execution_count": null,
   "metadata": {},
   "outputs": [],
   "source": [
    "#----------- Test Your Code by Running this block -----------#\n",
    "\n",
    "# creating an instance of an customer\n",
    "customer1 = Customer(\"customerUserName\", \"customerPass\", \"customerEmail@google.com\", \"Customer Full Name\")\n",
    "\n",
    "# call setGender method\n",
    "user1.setGender(\"female\")\n",
    "\n",
    "# call getter methods of class Customer\n",
    "print(customer1.getUserId()) # should print \"customerUserName\"\n",
    "print(customer1.getPassword()) # should print \"customerPass\"\n",
    "print(customer1.getEmail()) # should print \"customerEmail@google.com\"\n",
    "print(customer1.getGender()) # should print \"female\"\n",
    "print(customer1.getUserType()) # should print \"customer\"\n",
    "print(customer1.getFullName()) # should print \"Customer Full Name\"\n",
    "\n",
    "# login with wrong credentials (should print \"Failed Login. Please check your username and password\")\n",
    "customer1.login(\"wrongUser1\", \"wrongPass1\")\n",
    "\n",
    "# login with correct credentials (should print \"Login Successful!\")\n",
    "customer1.login(\"customerUserName\", \"customerPass\")"
   ]
  },
  {
   "cell_type": "markdown",
   "metadata": {},
   "source": [
    "# That's it!! Conrgatulation! You have completed the Python Quick Review!"
   ]
  },
  {
   "cell_type": "code",
   "execution_count": null,
   "metadata": {},
   "outputs": [],
   "source": []
  }
 ],
 "metadata": {
  "kernelspec": {
   "display_name": "Python 3",
   "language": "python",
   "name": "python3"
  },
  "language_info": {
   "codemirror_mode": {
    "name": "ipython",
    "version": 3
   },
   "file_extension": ".py",
   "mimetype": "text/x-python",
   "name": "python",
   "nbconvert_exporter": "python",
   "pygments_lexer": "ipython3",
   "version": "3.7.4"
  }
 },
 "nbformat": 4,
 "nbformat_minor": 2
}
